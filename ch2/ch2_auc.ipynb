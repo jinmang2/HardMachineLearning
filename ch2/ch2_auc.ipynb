{
 "cells": [
  {
   "cell_type": "code",
   "execution_count": 1,
   "metadata": {},
   "outputs": [],
   "source": [
    "import numpy as np\n",
    "import matplotlib.pyplot as plt\n",
    "%matplotlib inline"
   ]
  },
  {
   "cell_type": "code",
   "execution_count": 2,
   "metadata": {},
   "outputs": [],
   "source": [
    "D1 = [\n",
    "    # Sample: [probability, label]\n",
    "    [0.02, 1],\n",
    "    [0.13, 1],\n",
    "    [0.16, 1],\n",
    "    [0.24, 1],\n",
    "    [0.33, 0],\n",
    "    [0.47, 0],\n",
    "    [0.58, 1],\n",
    "    [0.69, 1],\n",
    "    [0.97, 0],\n",
    "    [0.99, 0],\n",
    "]\n",
    "\n",
    "D2 = [\n",
    "    # Sample: [probability, label]\n",
    "    [0.02, 1],\n",
    "    [0.13, 0], # 샘플 한 개만 변경\n",
    "    [0.16, 1],\n",
    "    [0.24, 1],\n",
    "    [0.33, 0],\n",
    "    [0.47, 0],\n",
    "    [0.58, 1],\n",
    "    [0.69, 1],\n",
    "    [0.97, 0],\n",
    "    [0.99, 0],\n",
    "]"
   ]
  },
  {
   "cell_type": "code",
   "execution_count": 3,
   "metadata": {},
   "outputs": [],
   "source": [
    "def prepare_confumat(D):\n",
    "    num_even = [val[1] for val in D].count(1) # Negative\n",
    "    num_odd  = [val[1] for val in D].count(0) # Positive\n",
    "    TPRs, FPRs = [], []\n",
    "    for thresh in np.linspace(0, 1, len(D)+1):\n",
    "        TP = [D[i][1] for i in range(len(D)) if D[i][0] > thresh].count(0)\n",
    "        FP = [D[i][1] for i in range(len(D)) if D[i][0] > thresh].count(1)\n",
    "        TN = num_even - FP\n",
    "        FN = num_odd - TP\n",
    "        TPRs.append(\n",
    "            TP / (TP + FN) # TPR\n",
    "        )\n",
    "        FPRs.append(\n",
    "            FP / (TN + FP) # FPR\n",
    "        )\n",
    "    return TPRs, FPRs"
   ]
  },
  {
   "cell_type": "code",
   "execution_count": 4,
   "metadata": {},
   "outputs": [],
   "source": [
    "TPRs1, FPRs1 = prepare_confumat(D1)\n",
    "TPRs2, FPRs2 = prepare_confumat(D2)"
   ]
  },
  {
   "cell_type": "code",
   "execution_count": 5,
   "metadata": {},
   "outputs": [
    {
     "data": {
      "image/png": "[encoded data removed]",
      "text/plain": [
       "<Figure size 432x288 with 1 Axes>"
      ]
     },
     "metadata": {
      "needs_background": "light"
     },
     "output_type": "display_data"
    }
   ],
   "source": [
    "plt.title('Receiver Operating Characteristic')\n",
    "plt.xlabel('False Positive Rate(1 - Specificity)')\n",
    "plt.ylabel('True Positive Rate(Sensitivity)')\n",
    "plt.plot(FPRs1, TPRs1, color='b', label='Before')\n",
    "plt.plot(FPRs2, TPRs2, color='r', ls='-.', label='After')\n",
    "plt.legend(loc='lower right')\n",
    "plt.show()"
   ]
  },
  {
   "cell_type": "code",
   "execution_count": 6,
   "metadata": {},
   "outputs": [],
   "source": [
    "def diff(li):\n",
    "    res = []\n",
    "    for i, j in zip(li[:-1], li[1:]):\n",
    "        res.append(j - i)\n",
    "    return res\n",
    "\n",
    "def summing(li):\n",
    "    res = []\n",
    "    for i, j in zip(li[:-1], li[1:]):\n",
    "        res.append(j + i)\n",
    "    return res"
   ]
  },
  {
   "cell_type": "code",
   "execution_count": 7,
   "metadata": {},
   "outputs": [],
   "source": [
    "def AUC(TPRs, FPRs):\n",
    "    return np.sum(\n",
    "        np.array(diff(FPRs[::-1])) * np.array(summing(TPRs[::-1]))\n",
    "    ) / 2"
   ]
  },
  {
   "cell_type": "code",
   "execution_count": 8,
   "metadata": {},
   "outputs": [
    {
     "data": {
      "text/plain": [
       "(0.8333333333333334, 0.7000000000000001)"
      ]
     },
     "execution_count": 8,
     "metadata": {},
     "output_type": "execute_result"
    }
   ],
   "source": [
    "AUC(TPRs1, FPRs1), AUC(TPRs2, FPRs2)"
   ]
  },
  {
   "cell_type": "markdown",
   "metadata": {},
   "source": [
    "# 연습문제 2.2"
   ]
  },
  {
   "cell_type": "code",
   "execution_count": 286,
   "metadata": {},
   "outputs": [],
   "source": [
    "import torch"
   ]
  },
  {
   "cell_type": "code",
   "execution_count": 692,
   "metadata": {},
   "outputs": [],
   "source": [
    "label = torch.randint(0, 2, (1000,))\n",
    "modelA = (label + torch.randn((1000,)))\n",
    "modelA = (modelA - modelA.min()) / (modelA.max() - modelA.min())\n",
    "modelB = torch.randn((1000,)).uniform_(0, 1)"
   ]
  },
  {
   "cell_type": "code",
   "execution_count": 693,
   "metadata": {},
   "outputs": [],
   "source": [
    "modelA, a_ind = modelA.sort()\n",
    "modelB, b_ind = modelB.sort()"
   ]
  },
  {
   "cell_type": "code",
   "execution_count": 694,
   "metadata": {},
   "outputs": [],
   "source": [
    "class D:\n",
    "    def __init__(self, model, label, ind):\n",
    "        self.true = label[ind]\n",
    "        self.pred = model\n",
    "    def __len__(self):\n",
    "        return len(self.true)\n",
    "        \n",
    "Da = D(modelA, label, a_ind)\n",
    "Db = D(modelB, label, b_ind)"
   ]
  },
  {
   "cell_type": "code",
   "execution_count": 695,
   "metadata": {},
   "outputs": [],
   "source": [
    "def get_PRs(D):\n",
    "    \"\"\" torch version \"\"\"\n",
    "    num0 = (D.true == 0).sum().item()\n",
    "    num1 = (D.true == 1).sum().item()\n",
    "    TPRs, FPRs = [], []\n",
    "    for thresh in np.linspace(0, 1, len(D)+1):\n",
    "        TP = (D.true[D.pred > thresh] == 0).sum().item()\n",
    "        FP = (D.true[D.pred > thresh] == 1).sum().item()\n",
    "        TN = num1 - FP\n",
    "        FN = num0 - TP\n",
    "        TPRs.append(\n",
    "            TP / (TP + FN) # TPR\n",
    "        )\n",
    "        FPRs.append(\n",
    "            FP / (TN + FP) # FPR\n",
    "        )\n",
    "    return TPRs, FPRs"
   ]
  },
  {
   "cell_type": "code",
   "execution_count": 696,
   "metadata": {},
   "outputs": [],
   "source": [
    "def get_P_R(D):\n",
    "    \"\"\" torch version \"\"\"\n",
    "    num0 = (D.true == 0).sum().item()\n",
    "    num1 = (D.true == 1).sum().item()\n",
    "    Ps, Rs = [], []\n",
    "    for thresh in np.linspace(0, 1, len(D)+1):\n",
    "        TP = (D.true[D.pred > thresh] == 0).sum().item()\n",
    "        FP = (D.true[D.pred > thresh] == 1).sum().item()\n",
    "        TN = num1 - FP\n",
    "        FN = num0 - TP\n",
    "        Ps.append(\n",
    "            TP / (TP + FP + 1e-7) # Precision\n",
    "        )\n",
    "        Rs.append(\n",
    "            TP / (TP + FN + 1e-7) # Recall\n",
    "        )\n",
    "    return Ps, Rs"
   ]
  },
  {
   "cell_type": "code",
   "execution_count": 697,
   "metadata": {},
   "outputs": [
    {
     "data": {
      "image/png": "[encoded data removed]",
      "text/plain": [
       "<Figure size 432x288 with 1 Axes>"
      ]
     },
     "metadata": {
      "needs_background": "light"
     },
     "output_type": "display_data"
    }
   ],
   "source": [
    "plt.title('Receiver Operating Characteristic')\n",
    "plt.xlabel('False Positive Rate(1 - Specificity)')\n",
    "plt.ylabel('True Positive Rate(Sensitivity)')\n",
    "plt.plot(*get_PRs(Da), color='b', label='Model A')\n",
    "plt.plot(*get_PRs(Db), color='r', ls='-.', label='Model B')\n",
    "plt.legend(loc='lower right')\n",
    "plt.show()"
   ]
  }
 ],
 "metadata": {
  "kernelspec": {
   "display_name": "basic",
   "language": "python",
   "name": "basic"
  },
  "language_info": {
   "codemirror_mode": {
    "name": "ipython",
    "version": 3
   },
   "file_extension": ".py",
   "mimetype": "text/x-python",
   "name": "python",
   "nbconvert_exporter": "python",
   "pygments_lexer": "ipython3",
   "version": "3.6.9"
  }
 },
 "nbformat": 4,
 "nbformat_minor": 2
}
