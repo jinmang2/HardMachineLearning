{
 "cells": [
  {
   "cell_type": "markdown",
   "metadata": {},
   "source": [
    "# ROC and AUC"
   ]
  },
  {
   "cell_type": "code",
   "execution_count": 1,
   "metadata": {},
   "outputs": [],
   "source": [
    "import numpy as np\n",
    "import matplotlib.pyplot as plt\n",
    "%matplotlib inline"
   ]
  },
  {
   "cell_type": "markdown",
   "metadata": {},
   "source": [
    "![img](http://tykimos.github.io/warehouse/2017-5-22-Evaluation_Talk_classification_6.png)"
   ]
  },
  {
   "cell_type": "markdown",
   "metadata": {},
   "source": [
    "# 위의 F만 사용하여 예시를 진행\n",
    "- D1은 F의 그림 그래도\n",
    "- D2는 sample 하나를 홀수 블럭으로 변경 (0.1~0.2)"
   ]
  },
  {
   "cell_type": "code",
   "execution_count": 2,
   "metadata": {},
   "outputs": [],
   "source": [
    "D1 = [\n",
    "    # Sample: [probability, label]\n",
    "    [0.02, 0],\n",
    "    [0.13, 0],\n",
    "    [0.16, 0],\n",
    "    [0.24, 0],\n",
    "    [0.33, 1],\n",
    "    [0.47, 1],\n",
    "    [0.58, 0],\n",
    "    [0.69, 0],\n",
    "    [0.97, 1],\n",
    "    [0.99, 1],\n",
    "]\n",
    "\n",
    "D2 = [\n",
    "    # Sample: [probability, label]\n",
    "    [0.02, 0],\n",
    "    [0.13, 1], # 샘플 한 개만 변경\n",
    "    [0.16, 0],\n",
    "    [0.24, 0],\n",
    "    [0.33, 1],\n",
    "    [0.47, 1],\n",
    "    [0.58, 0],\n",
    "    [0.69, 0],\n",
    "    [0.97, 1],\n",
    "    [0.99, 1],\n",
    "]"
   ]
  },
  {
   "cell_type": "code",
   "execution_count": 3,
   "metadata": {},
   "outputs": [],
   "source": [
    "def prepare_confumat(D):\n",
    "    num_even = [val[1] for val in D].count(0) # Negative\n",
    "    num_odd  = [val[1] for val in D].count(1) # Positive\n",
    "    print(f\"m+ : {num_odd}, m- : {num_even}\")\n",
    "    print(f\"1/m+ : {1/num_odd:.2f}, 1/m- : {1/num_even:.2f}\")\n",
    "    TPRs, FPRs = [], []\n",
    "    print('\\tthresh\\tTP\\tFP\\tTN\\tFN\\tTPR\\tFPR')\n",
    "    for thresh in np.linspace(0, 1, len(D)+1):\n",
    "        TP = [D[i][1] for i in range(len(D)) if D[i][0] > thresh].count(1)\n",
    "        FP = [D[i][1] for i in range(len(D)) if D[i][0] > thresh].count(0)\n",
    "        TN = num_even - FP\n",
    "        FN = num_odd - TP\n",
    "        TPR = TP / (TP + FN)\n",
    "        FPR = FP / (TN + FP)\n",
    "        print(f\"thresh: {thresh:6.0%}\\t{TP}\\t{FP}\\t{TN}\\t{FN}\\t{TPR:.2f}\\t{FPR:.2f}\")\n",
    "        TPRs.append(TPR)\n",
    "        FPRs.append(FPR)\n",
    "    return TPRs, FPRs"
   ]
  },
  {
   "cell_type": "code",
   "execution_count": 4,
   "metadata": {},
   "outputs": [
    {
     "name": "stdout",
     "output_type": "stream",
     "text": [
      "m+ : 4, m- : 6\n",
      "1/m+ : 0.25, 1/m- : 0.17\n",
      "\tthresh\tTP\tFP\tTN\tFN\tTPR\tFPR\n",
      "thresh:     0%\t4\t6\t0\t0\t1.00\t1.00\n",
      "thresh:    10%\t4\t5\t1\t0\t1.00\t0.83\n",
      "thresh:    20%\t4\t3\t3\t0\t1.00\t0.50\n",
      "thresh:    30%\t4\t2\t4\t0\t1.00\t0.33\n",
      "thresh:    40%\t3\t2\t4\t1\t0.75\t0.33\n",
      "thresh:    50%\t2\t2\t4\t2\t0.50\t0.33\n",
      "thresh:    60%\t2\t1\t5\t2\t0.50\t0.17\n",
      "thresh:    70%\t2\t0\t6\t2\t0.50\t0.00\n",
      "thresh:    80%\t2\t0\t6\t2\t0.50\t0.00\n",
      "thresh:    90%\t2\t0\t6\t2\t0.50\t0.00\n",
      "thresh:   100%\t0\t0\t6\t4\t0.00\t0.00\n"
     ]
    }
   ],
   "source": [
    "TPRs1, FPRs1 = prepare_confumat(D1)"
   ]
  },
  {
   "cell_type": "code",
   "execution_count": 5,
   "metadata": {},
   "outputs": [
    {
     "name": "stdout",
     "output_type": "stream",
     "text": [
      "m+ : 5, m- : 5\n",
      "1/m+ : 0.20, 1/m- : 0.20\n",
      "\tthresh\tTP\tFP\tTN\tFN\tTPR\tFPR\n",
      "thresh:     0%\t5\t5\t0\t0\t1.00\t1.00\n",
      "thresh:    10%\t5\t4\t1\t0\t1.00\t0.80\n",
      "thresh:    20%\t4\t3\t2\t1\t0.80\t0.60\n",
      "thresh:    30%\t4\t2\t3\t1\t0.80\t0.40\n",
      "thresh:    40%\t3\t2\t3\t2\t0.60\t0.40\n",
      "thresh:    50%\t2\t2\t3\t3\t0.40\t0.40\n",
      "thresh:    60%\t2\t1\t4\t3\t0.40\t0.20\n",
      "thresh:    70%\t2\t0\t5\t3\t0.40\t0.00\n",
      "thresh:    80%\t2\t0\t5\t3\t0.40\t0.00\n",
      "thresh:    90%\t2\t0\t5\t3\t0.40\t0.00\n",
      "thresh:   100%\t0\t0\t5\t5\t0.00\t0.00\n"
     ]
    }
   ],
   "source": [
    "TPRs2, FPRs2 = prepare_confumat(D2)"
   ]
  },
  {
   "cell_type": "code",
   "execution_count": 10,
   "metadata": {},
   "outputs": [],
   "source": [
    "def diff(li):\n",
    "    res = []\n",
    "    for i, j in zip(li[:-1], li[1:]):\n",
    "        res.append(j - i)\n",
    "    return res\n",
    "\n",
    "\n",
    "def summing(li):\n",
    "    res = []\n",
    "    for i, j in zip(li[:-1], li[1:]):\n",
    "        res.append(j + i)\n",
    "    return res\n",
    "\n",
    "\n",
    "def AUC(TPRs, FPRs):\n",
    "    return np.sum(\n",
    "        np.array(diff(FPRs[::-1])) * np.array(summing(TPRs[::-1]))\n",
    "    ) / 2"
   ]
  },
  {
   "cell_type": "code",
   "execution_count": 11,
   "metadata": {},
   "outputs": [
    {
     "data": {
      "image/png": "[encoded data removed]",
      "text/plain": [
       "<Figure size 432x288 with 1 Axes>"
      ]
     },
     "metadata": {
      "needs_background": "light"
     },
     "output_type": "display_data"
    }
   ],
   "source": [
    "plt.title('Receiver Operating Characteristic')\n",
    "plt.xlabel('False Positive Rate(1 - Specificity)')\n",
    "plt.ylabel('True Positive Rate(Sensitivity)')\n",
    "plt.plot(FPRs1, TPRs1, color='b', label='D1')\n",
    "plt.plot(FPRs2, TPRs2, color='g', label='D2')\n",
    "plt.plot([0,1],[1,1],'y--')\n",
    "plt.plot([0,1],[0,1],'r--')\n",
    "plt.legend(loc='lower right')\n",
    "plt.show()"
   ]
  },
  {
   "cell_type": "code",
   "execution_count": 15,
   "metadata": {},
   "outputs": [
    {
     "name": "stdout",
     "output_type": "stream",
     "text": [
      "AUC(D1): 83.33%\n",
      "AUC(D2): 70.00%\n"
     ]
    }
   ],
   "source": [
    "AUCs = AUC(TPRs1, FPRs1), AUC(TPRs2, FPRs2)\n",
    "print(f\"AUC(D1): {AUCs[0]:.2%}\\nAUC(D2): {AUCs[1]:.2%}\")"
   ]
  }
 ],
 "metadata": {
  "kernelspec": {
   "display_name": "basic",
   "language": "python",
   "name": "basic"
  },
  "language_info": {
   "codemirror_mode": {
    "name": "ipython",
    "version": 3
   },
   "file_extension": ".py",
   "mimetype": "text/x-python",
   "name": "python",
   "nbconvert_exporter": "python",
   "pygments_lexer": "ipython3",
   "version": "3.6.9"
  }
 },
 "nbformat": 4,
 "nbformat_minor": 2
}
